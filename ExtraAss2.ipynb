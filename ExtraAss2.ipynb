{
 "cells": [
  {
   "cell_type": "raw",
   "id": "44ccbdd8-f79b-4d83-a703-da1ee2b363c1",
   "metadata": {},
   "source": [
    "print(\"ggg\")\n"
   ]
  },
  {
   "cell_type": "code",
   "execution_count": 17,
   "id": "9139adb7-3536-4e10-955e-0a09134c3e3d",
   "metadata": {},
   "outputs": [
    {
     "name": "stdout",
     "output_type": "stream",
     "text": [
      "ARTIFICIAL INTELLIGENCE\n",
      "A\n",
      "r\n",
      "t\n",
      "i\n",
      "f\n",
      "i\n",
      "c\n",
      "i\n",
      "a\n",
      "l\n",
      "\n",
      "I\n",
      "t\n",
      "e\n",
      "l\n",
      "l\n",
      "i\n",
      "g\n",
      "e\n",
      "n\n",
      "c\n",
      "e\n",
      "\n"
     ]
    }
   ],
   "source": [
    "print(\"ARTIFICIAL INTELLIGENCE\")\n",
    "print(\"A\\nr\\nt\\ni\\nf\\ni\\nc\\ni\\na\\nl\\n\\nI\\nt\\ne\\nl\\nl\\ni\\ng\\ne\\nn\\nc\\ne\\n\")"
   ]
  },
  {
   "cell_type": "code",
   "execution_count": 2,
   "id": "47bd6caf-3d1e-47c1-a991-6ac3d3f5a571",
   "metadata": {},
   "outputs": [
    {
     "name": "stdout",
     "output_type": "stream",
     "text": [
      "-Your Name-\n",
      "-Your Age-\n",
      "-Your Profession-\n"
     ]
    }
   ],
   "source": [
    "print(\"-Your Name-\")\n",
    "print(\"-Your Age-\")\n",
    "print(\"-Your Profession-\")"
   ]
  },
  {
   "cell_type": "code",
   "execution_count": 5,
   "id": "0eca9dc0-7ce4-46c4-b62a-1799eb3f6d1d",
   "metadata": {},
   "outputs": [],
   "source": [
    "tuple1=(1,\"Welcome\", 2, \"Hope\")"
   ]
  },
  {
   "cell_type": "code",
   "execution_count": 6,
   "id": "7e3fc5ae-bf9c-4d8d-82be-2ed32463e92b",
   "metadata": {},
   "outputs": [
    {
     "name": "stdout",
     "output_type": "stream",
     "text": [
      "(1, 'Welcome', 2, 'Hope')\n"
     ]
    }
   ],
   "source": [
    "print(tuple1)"
   ]
  },
  {
   "cell_type": "code",
   "execution_count": 2,
   "id": "a2c04fd8-aba5-4cc2-88c6-279289501f57",
   "metadata": {},
   "outputs": [
    {
     "name": "stdout",
     "output_type": "stream",
     "text": [
      "19 is odd\n",
      "1 is odd\n",
      "25 is odd\n"
     ]
    }
   ],
   "source": [
    "list=[20,10,16,19,1,276,188,25]\n",
    "for num in list:\n",
    "  if(num%2!=0):\n",
    "     print(num,\"is odd\")\n"
   ]
  },
  {
   "cell_type": "code",
   "execution_count": 4,
   "id": "4cdccf44-9433-4982-93d2-4e64699cca0f",
   "metadata": {},
   "outputs": [
    {
     "name": "stdout",
     "output_type": "stream",
     "text": [
      "20 is even\n",
      "10 is even\n",
      "16 is even\n",
      "276 is even\n",
      "188 is even\n"
     ]
    }
   ],
   "source": [
    "list=[20,10,16,19,1,276,188,25]\n",
    "for num in list:\n",
    "  if(num%2==0):\n",
    "     print(num,\"is even\")\n"
   ]
  },
  {
   "cell_type": "code",
   "execution_count": 5,
   "id": "a61b4c85-8834-413e-b4a3-57dcb36d4ab7",
   "metadata": {},
   "outputs": [
    {
     "name": "stdout",
     "output_type": "stream",
     "text": [
      "0\n",
      "1\n",
      "2\n",
      "3\n",
      "4\n",
      "5\n",
      "6\n",
      "7\n",
      "8\n",
      "9\n",
      "10\n",
      "11\n",
      "12\n",
      "13\n",
      "14\n",
      "15\n",
      "16\n",
      "17\n",
      "18\n",
      "19\n"
     ]
    }
   ],
   "source": [
    "for x in range(0,20):\n",
    "    print(x)"
   ]
  },
  {
   "cell_type": "code",
   "execution_count": 6,
   "id": "24925cb5-f333-411a-822e-d5e88b8491c4",
   "metadata": {},
   "outputs": [
    {
     "name": "stdout",
     "output_type": "stream",
     "text": [
      "10\n",
      "11\n",
      "12\n",
      "13\n",
      "14\n",
      "15\n",
      "16\n",
      "17\n",
      "18\n",
      "19\n"
     ]
    }
   ],
   "source": [
    "for x in range(10,20):\n",
    "    print(x)"
   ]
  },
  {
   "cell_type": "code",
   "execution_count": 9,
   "id": "1fa47e5f-24a7-4b79-86af-f20e35ab87a0",
   "metadata": {},
   "outputs": [
    {
     "name": "stdout",
     "output_type": "stream",
     "text": [
      "number of items in list2: 7\n"
     ]
    }
   ],
   "source": [
    "list2=[10,20,14,55,43,87,76]\n",
    "x=len(list2)\n",
    "print(\"Number of items in list2:\",x)"
   ]
  },
  {
   "cell_type": "code",
   "execution_count": null,
   "id": "4463612a-9042-44c8-a8bc-c8e25d81d02c",
   "metadata": {},
   "outputs": [],
   "source": []
  },
  {
   "cell_type": "code",
   "execution_count": 10,
   "id": "1d3884b8-1081-48ff-bedf-ee4c529270a1",
   "metadata": {},
   "outputs": [
    {
     "name": "stdout",
     "output_type": "stream",
     "text": [
      "(0, 1, 2, 3, 'python', 'hope')\n"
     ]
    }
   ],
   "source": [
    "Tuble1=(0,1,2,3,\"python\",\"hope\")\n",
    "print(Tuble1)"
   ]
  },
  {
   "cell_type": "code",
   "execution_count": null,
   "id": "43b29ed3-3e98-4554-8f2b-db9de6442e90",
   "metadata": {},
   "outputs": [],
   "source": []
  }
 ],
 "metadata": {
  "kernelspec": {
   "display_name": "Python 3 (ipykernel)",
   "language": "python",
   "name": "python3"
  },
  "language_info": {
   "codemirror_mode": {
    "name": "ipython",
    "version": 3
   },
   "file_extension": ".py",
   "mimetype": "text/x-python",
   "name": "python",
   "nbconvert_exporter": "python",
   "pygments_lexer": "ipython3",
   "version": "3.12.4"
  }
 },
 "nbformat": 4,
 "nbformat_minor": 5
}
