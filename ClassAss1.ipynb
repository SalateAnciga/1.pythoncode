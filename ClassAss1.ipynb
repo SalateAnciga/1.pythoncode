{
 "cells": [
  {
   "cell_type": "code",
   "execution_count": 3,
   "id": "deae7b41-96d6-4add-a9b9-defdcd81cce4",
   "metadata": {},
   "outputs": [],
   "source": [
    "class SubfieldsInAI():\n",
    "    def subfields():\n",
    "        print(\"SubField in AI are:\")\n",
    "        list=[\"Machine Learning\",\"Neural Network\",\"Vision\",\"Robotics\",\"Search Processing\",\"Natural Language Processing\"]\n",
    "        for x in list:\n",
    "            print(x) \n",
    "         "
   ]
  },
  {
   "cell_type": "code",
   "execution_count": 4,
   "id": "bee8c2e3-61ce-490e-9062-99ecf49117af",
   "metadata": {},
   "outputs": [
    {
     "name": "stdout",
     "output_type": "stream",
     "text": [
      "SubField in AI are:\n",
      "Machine Learning\n",
      "Neural Network\n",
      "Vision\n",
      "Robotics\n",
      "Search Processing\n",
      "Natural Language Processing\n"
     ]
    }
   ],
   "source": [
    " SubfieldsInAI.subfields()"
   ]
  },
  {
   "cell_type": "code",
   "execution_count": 7,
   "id": "9277fb58-065d-43b7-8255-4c558b1a5c77",
   "metadata": {},
   "outputs": [],
   "source": [
    "class OddEven():\n",
    "    def oddEven():\n",
    "        num=int(input(\"Enter the Number\"))\n",
    "        if((num%2)==0):\n",
    "            print(num,\"is Even Number\")\n",
    "        else:\n",
    "            print(num,\" is Odd Number\")\n",
    "        return\n",
    "        "
   ]
  },
  {
   "cell_type": "code",
   "execution_count": 8,
   "id": "63769437-02a4-46fa-85e7-b241a77234b6",
   "metadata": {},
   "outputs": [
    {
     "name": "stdin",
     "output_type": "stream",
     "text": [
      "Enter the Number 52452\n"
     ]
    },
    {
     "name": "stdout",
     "output_type": "stream",
     "text": [
      "52452 is Even Number\n"
     ]
    }
   ],
   "source": [
    "OddEven.oddEven()"
   ]
  },
  {
   "cell_type": "code",
   "execution_count": 9,
   "id": "5525b018-dae2-4cdb-b186-05bb289d799a",
   "metadata": {},
   "outputs": [],
   "source": [
    "class ElegiblityForMarriage():\n",
    "    def Elegible():\n",
    "        Gender=input(\"Your Gender:\")\n",
    "        Age=int(input(\"Your Age:\"))\n",
    "        if(Age>=21 and Gender==\"Male\"):\n",
    "            print(\"Eligible for Marriage\")\n",
    "        elif(Age>=18 and Gender==\"Female\"):\n",
    "            print(\"Eligible for Marriage\")\n",
    "        else:\n",
    "            print(\"Not Eligible\")\n",
    "        return    "
   ]
  },
  {
   "cell_type": "code",
   "execution_count": 12,
   "id": "b58c69af-58e0-4d23-9809-3447e0ffeda8",
   "metadata": {},
   "outputs": [
    {
     "name": "stdin",
     "output_type": "stream",
     "text": [
      "Your Gender: Male\n",
      "Your Age: 20\n"
     ]
    },
    {
     "name": "stdout",
     "output_type": "stream",
     "text": [
      "Not Eligible\n"
     ]
    }
   ],
   "source": [
    "ElegiblityForMarriage. Elegible()"
   ]
  },
  {
   "cell_type": "code",
   "execution_count": 13,
   "id": "6b1d5c4f-c354-4181-b40f-eee409d70664",
   "metadata": {},
   "outputs": [],
   "source": [
    "class FindPercent():\n",
    "    def percentage():\n",
    "        Mark1=int(input(\"subject1:\"))\n",
    "        Mark2=int(input(\"subject2:\"))\n",
    "        Mark3=int(input(\"subject3:\"))\n",
    "        Mark4=int(input(\"subject4\"))\n",
    "        Mark5=int(input(\"subjec5:\"))\n",
    "        Total=Mark1+Mark2+Mark3+Mark4+Mark5\n",
    "        print(\"Total Mark:\",Total)\n",
    "        percentage=((Total/500)*100)\n",
    "        print(\"Percentage :\",percentage)\n",
    "        return"
   ]
  },
  {
   "cell_type": "code",
   "execution_count": 14,
   "id": "127ee65b-0a90-4eba-8548-06ab8f7f432c",
   "metadata": {},
   "outputs": [
    {
     "name": "stdin",
     "output_type": "stream",
     "text": [
      "subject1: 98\n",
      "subject2: 87\n",
      "subject3: 95\n",
      "subject4 95\n",
      "subjec5: 93\n"
     ]
    },
    {
     "name": "stdout",
     "output_type": "stream",
     "text": [
      "Total Mark: 468\n",
      "Percentage : 93.60000000000001\n"
     ]
    }
   ],
   "source": [
    "FindPercent.percentage()"
   ]
  },
  {
   "cell_type": "code",
   "execution_count": 15,
   "id": "630fbf95-b78b-41a7-961d-087692fa2b27",
   "metadata": {},
   "outputs": [],
   "source": [
    "class triangle():\n",
    "    def triangle():\n",
    "        print(\"Area of Triangle\")\n",
    "        Height=int(input(\"Height:\"))\n",
    "        Breadth=int(input(\"Breadth:\"))\n",
    "        Area=((Height*Breadth)/2)\n",
    "        print(\"Area of Triangle:\",Area)\n",
    "        print(\"Perimeter of Triangle\")\n",
    "        Height1=int(input(\"Height1:\"))\n",
    "        Height2=int(input(\"Height2:\"))\n",
    "        Breadth=int(input(\"Breadth\"))\n",
    "        Perimeter=Height1+Height2+Breadth\n",
    "        print(\"Perimeter of Triangle:\",Perimeter)\n",
    "        return"
   ]
  },
  {
   "cell_type": "code",
   "execution_count": 16,
   "id": "357fa406-ff2c-41fd-84d9-8d9522198821",
   "metadata": {},
   "outputs": [
    {
     "name": "stdout",
     "output_type": "stream",
     "text": [
      "Area of Triangle\n"
     ]
    },
    {
     "name": "stdin",
     "output_type": "stream",
     "text": [
      "Height: 32\n",
      "Breadth: 34\n"
     ]
    },
    {
     "name": "stdout",
     "output_type": "stream",
     "text": [
      "Area of Triangle: 544.0\n",
      "Perimeter of Triangle\n"
     ]
    },
    {
     "name": "stdin",
     "output_type": "stream",
     "text": [
      "Height1: 2\n",
      "Height2: 4\n",
      "Breadth 4\n"
     ]
    },
    {
     "name": "stdout",
     "output_type": "stream",
     "text": [
      "Perimeter of Triangle: 10\n"
     ]
    }
   ],
   "source": [
    "triangle. triangle()"
   ]
  },
  {
   "cell_type": "code",
   "execution_count": null,
   "id": "793d308c-06cd-42ce-90f5-d04907bb0521",
   "metadata": {},
   "outputs": [],
   "source": []
  }
 ],
 "metadata": {
  "kernelspec": {
   "display_name": "Python 3 (ipykernel)",
   "language": "python",
   "name": "python3"
  },
  "language_info": {
   "codemirror_mode": {
    "name": "ipython",
    "version": 3
   },
   "file_extension": ".py",
   "mimetype": "text/x-python",
   "name": "python",
   "nbconvert_exporter": "python",
   "pygments_lexer": "ipython3",
   "version": "3.12.4"
  }
 },
 "nbformat": 4,
 "nbformat_minor": 5
}
