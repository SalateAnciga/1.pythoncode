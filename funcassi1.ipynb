{
 "cells": [
  {
   "cell_type": "code",
   "execution_count": 1,
   "id": "42fef58b-b8fb-4cae-93be-b13aac811af0",
   "metadata": {},
   "outputs": [],
   "source": [
    "def subfields():\n",
    "    print(\"SubField in AI are:\")\n",
    "    list=[\"Machine Learning\",\"Neural Network\",\"Vision\",\"Robotics\",\"Search Processing\",\"Natural Language Processing\"]\n",
    "    for x in list:\n",
    "        print(x) \n",
    "     "
   ]
  },
  {
   "cell_type": "code",
   "execution_count": 3,
   "id": "490bb7b5-5fa2-40c3-bad1-a46adb30a8df",
   "metadata": {},
   "outputs": [
    {
     "name": "stdout",
     "output_type": "stream",
     "text": [
      "SubField in AI are:\n",
      "Machine Learning\n",
      "Neural Network\n",
      "Vision\n",
      "Robotics\n",
      "Search Processing\n",
      "Natural Language Processing\n"
     ]
    }
   ],
   "source": [
    "    subfields()\n"
   ]
  },
  {
   "cell_type": "code",
   "execution_count": null,
   "id": "e5b58aa5-7070-4e0a-9dc6-1560155340d6",
   "metadata": {},
   "outputs": [],
   "source": []
  },
  {
   "cell_type": "code",
   "execution_count": 4,
   "id": "04c16296-9e46-4426-87a3-9ccd4b71d292",
   "metadata": {},
   "outputs": [],
   "source": [
    "def oddEven():\n",
    "    num=int(input(\"Enter the Number\"))\n",
    "    if((num%2)==0):\n",
    "        print(num,\"is Even Number\")\n",
    "    else:\n",
    "        print(num,\" is Odd Number\")\n",
    "    return\n",
    "        "
   ]
  },
  {
   "cell_type": "code",
   "execution_count": 5,
   "id": "17481564-7a2d-474a-a861-fdcddf14b5b7",
   "metadata": {},
   "outputs": [
    {
     "name": "stdin",
     "output_type": "stream",
     "text": [
      "Enter the Number 52452\n"
     ]
    },
    {
     "name": "stdout",
     "output_type": "stream",
     "text": [
      "52452 is Even Number\n"
     ]
    }
   ],
   "source": [
    "oddEven()\n"
   ]
  },
  {
   "cell_type": "code",
   "execution_count": 6,
   "id": "38824337-4ece-4417-8099-d083fc745b21",
   "metadata": {},
   "outputs": [],
   "source": [
    "def Elegible():\n",
    "    Gender=input(\"Your Gender:\")\n",
    "    Age=int(input(\"Your Age:\"))\n",
    "    if(Age>=21 and Gender==\"Male\"):\n",
    "        print(\"Eligible for Marriage\")\n",
    "    elif(Age>=18 and Gender==\"Female\"):\n",
    "        print(\"Eligible for Marriage\")\n",
    "    else:\n",
    "        print(\"Not Eligible\")\n",
    "    return    "
   ]
  },
  {
   "cell_type": "code",
   "execution_count": 7,
   "id": "42d429ef-05d5-4704-943c-1634fa65f126",
   "metadata": {},
   "outputs": [
    {
     "name": "stdin",
     "output_type": "stream",
     "text": [
      "Your Gender: Male\n",
      "Your Age: 20\n"
     ]
    },
    {
     "name": "stdout",
     "output_type": "stream",
     "text": [
      "Not Eligible\n"
     ]
    }
   ],
   "source": [
    "Elegible()"
   ]
  },
  {
   "cell_type": "code",
   "execution_count": 13,
   "id": "653f9d1d-b1c5-4b2c-9434-3709eb45ffd3",
   "metadata": {},
   "outputs": [],
   "source": [
    "def percentage():\n",
    "    Mark1=int(input(\"subject1:\"))\n",
    "    Mark2=int(input(\"subject2:\"))\n",
    "    Mark3=int(input(\"subject3:\"))\n",
    "    Mark4=int(input(\"subject4\"))\n",
    "    Mark5=int(input(\"subjec5:\"))\n",
    "    Total=Mark1+Mark2+Mark3+Mark4+Mark5\n",
    "    print(\"Total Mark:\",Total)\n",
    "    percentage=((Total/500)*100)\n",
    "    print(\"Percentage :\",percentage)\n",
    "    return"
   ]
  },
  {
   "cell_type": "code",
   "execution_count": 14,
   "id": "8fb2a884-389d-47f2-b73f-c517ae0697e7",
   "metadata": {},
   "outputs": [
    {
     "name": "stdin",
     "output_type": "stream",
     "text": [
      "subject1: 98\n",
      "subject2: 87\n",
      "subject3: 95\n",
      "subject4 95\n",
      "subjec5: 93\n"
     ]
    },
    {
     "name": "stdout",
     "output_type": "stream",
     "text": [
      "Total Mark: 468\n",
      "Percentage : 93.60000000000001\n"
     ]
    }
   ],
   "source": [
    "percentage()"
   ]
  },
  {
   "cell_type": "code",
   "execution_count": 15,
   "id": "b793e29c-cbae-48d6-9d36-1a0b4497ed01",
   "metadata": {},
   "outputs": [],
   "source": [
    "def triangle():\n",
    "    print(\"Area of Triangle\")\n",
    "    Height=int(input(\"Height:\"))\n",
    "    Breadth=int(input(\"Breadth:\"))\n",
    "    Area=((Height*Breadth)/2)\n",
    "    print(\"Area of Triangle:\",Area)\n",
    "    print(\"Perimeter of Triangle\")\n",
    "    Height1=int(input(\"Height1:\"))\n",
    "    Height2=int(input(\"Height2:\"))\n",
    "    Breadth=int(input(\"Breadth\"))\n",
    "    Perimeter=Height1+Height2+Breadth\n",
    "    print(\"Perimeter of Triangle:\",Perimeter)\n",
    "    return"
   ]
  },
  {
   "cell_type": "code",
   "execution_count": 16,
   "id": "7f6544ae-45cf-46c9-8498-da659ffbb1c0",
   "metadata": {},
   "outputs": [
    {
     "name": "stdout",
     "output_type": "stream",
     "text": [
      "Area of Triangle\n"
     ]
    },
    {
     "name": "stdin",
     "output_type": "stream",
     "text": [
      "Height: 32\n",
      "Breadth: 34\n"
     ]
    },
    {
     "name": "stdout",
     "output_type": "stream",
     "text": [
      "Area of Triangle: 544.0\n",
      "Perimeter of Triangle\n"
     ]
    },
    {
     "name": "stdin",
     "output_type": "stream",
     "text": [
      "Height1: 2\n",
      "Height2: 4\n",
      "Breadth 4\n"
     ]
    },
    {
     "name": "stdout",
     "output_type": "stream",
     "text": [
      "Perimeter of Triangle: 10\n"
     ]
    }
   ],
   "source": [
    "triangle()"
   ]
  },
  {
   "cell_type": "code",
   "execution_count": null,
   "id": "13240dea-8961-479f-a17a-f8ea0575a8c5",
   "metadata": {},
   "outputs": [],
   "source": []
  }
 ],
 "metadata": {
  "kernelspec": {
   "display_name": "Python 3 (ipykernel)",
   "language": "python",
   "name": "python3"
  },
  "language_info": {
   "codemirror_mode": {
    "name": "ipython",
    "version": 3
   },
   "file_extension": ".py",
   "mimetype": "text/x-python",
   "name": "python",
   "nbconvert_exporter": "python",
   "pygments_lexer": "ipython3",
   "version": "3.12.4"
  }
 },
 "nbformat": 4,
 "nbformat_minor": 5
}
