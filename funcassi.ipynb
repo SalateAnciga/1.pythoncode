{
 "cells": [
  {
   "cell_type": "code",
   "execution_count": 10,
   "id": "42fef58b-b8fb-4cae-93be-b13aac811af0",
   "metadata": {},
   "outputs": [],
   "source": [
    "def subfield():\n",
    "    print(\"SubField in AI are:\")\n",
    "    list=[\"Machine Learning\",\"Neural Network\",\"Vision\",\"Robotics\",\"Search Processing\",\"Natural Language Processing\"]\n",
    "    for x in list:\n",
    "        print(x) \n",
    "     "
   ]
  },
  {
   "cell_type": "code",
   "execution_count": 11,
   "id": "490bb7b5-5fa2-40c3-bad1-a46adb30a8df",
   "metadata": {},
   "outputs": [
    {
     "name": "stdout",
     "output_type": "stream",
     "text": [
      "SubField in AI are:\n",
      "Machine Learning\n",
      "Neural Network\n",
      "Vision\n",
      "Robotics\n",
      "Search Processing\n",
      "Natural Language Processing\n"
     ]
    }
   ],
   "source": [
    "    subfield()\n"
   ]
  },
  {
   "cell_type": "code",
   "execution_count": null,
   "id": "e5b58aa5-7070-4e0a-9dc6-1560155340d6",
   "metadata": {},
   "outputs": [],
   "source": []
  },
  {
   "cell_type": "code",
   "execution_count": 5,
   "id": "04c16296-9e46-4426-87a3-9ccd4b71d292",
   "metadata": {},
   "outputs": [],
   "source": [
    "def oddeven():\n",
    "    num=int(input(\"Enter the Number\"))\n",
    "    if((num%2)==0):\n",
    "        print(num,\"is Even Number\")\n",
    "    else:\n",
    "        print(num,\" is Odd Number\")\n",
    "    return\n",
    "        "
   ]
  },
  {
   "cell_type": "code",
   "execution_count": 7,
   "id": "17481564-7a2d-474a-a861-fdcddf14b5b7",
   "metadata": {},
   "outputs": [
    {
     "name": "stdin",
     "output_type": "stream",
     "text": [
      "Enter the Number 678\n"
     ]
    },
    {
     "name": "stdout",
     "output_type": "stream",
     "text": [
      "678 is Even Number\n",
      "None\n"
     ]
    }
   ],
   "source": [
    "check=oddeven()\n",
    "print(check)"
   ]
  },
  {
   "cell_type": "code",
   "execution_count": 27,
   "id": "38824337-4ece-4417-8099-d083fc745b21",
   "metadata": {},
   "outputs": [],
   "source": [
    "def Elegible():\n",
    "    Gender=input(\"Your Gender:\")\n",
    "    Age=int(input(\"Your Age:\"))\n",
    "    if(Age>=21 and Gender==\"M\"):\n",
    "        print(\"Eligible for Marriage\")\n",
    "    elif(Age>=18 and Gender==\"F\"):\n",
    "        print(\"Eligible for Marriage\")\n",
    "    else:\n",
    "        print(\"Not Eligible\")\n",
    "    return    "
   ]
  },
  {
   "cell_type": "code",
   "execution_count": 28,
   "id": "42d429ef-05d5-4704-943c-1634fa65f126",
   "metadata": {},
   "outputs": [
    {
     "name": "stdin",
     "output_type": "stream",
     "text": [
      "Your Gender: F\n",
      "Your Age: 22\n"
     ]
    },
    {
     "name": "stdout",
     "output_type": "stream",
     "text": [
      "Eligible for Marriage\n"
     ]
    }
   ],
   "source": [
    "Elegible()"
   ]
  },
  {
   "cell_type": "code",
   "execution_count": 8,
   "id": "653f9d1d-b1c5-4b2c-9434-3709eb45ffd3",
   "metadata": {},
   "outputs": [],
   "source": [
    "def calculate():\n",
    "    Mark1=int(input(\"Enter mark for subject1:\"))\n",
    "    Mark2=int(input(\"Enter mark for subject2:\"))\n",
    "    Mark3=int(input(\"Enter mark for subject3:\"))\n",
    "    Mark4=int(input(\"Enter mark for subject4\"))\n",
    "    Mark5=int(input(\"Enter mark for subjec5:\"))\n",
    "    Total=Mark1+Mark2+Mark3+Mark4+Mark5\n",
    "    print(\"Total Mark:\",Total)\n",
    "    percentage=((Total/500)*100)\n",
    "    print(\"Percentage of Marks:\",percentage)\n",
    "    return"
   ]
  },
  {
   "cell_type": "code",
   "execution_count": 9,
   "id": "8fb2a884-389d-47f2-b73f-c517ae0697e7",
   "metadata": {},
   "outputs": [
    {
     "name": "stdin",
     "output_type": "stream",
     "text": [
      "Enter mark for subject1: 55\n",
      "Enter mark for subject2: 44\n",
      "Enter mark for subject3: 88\n",
      "Enter mark for subject4 77\n",
      "Enter mark for subjec5: 56\n"
     ]
    },
    {
     "name": "stdout",
     "output_type": "stream",
     "text": [
      "Total Mark: 320\n",
      "Percentage of Marks: 64.0\n"
     ]
    }
   ],
   "source": [
    "calculate()"
   ]
  },
  {
   "cell_type": "code",
   "execution_count": 13,
   "id": "b793e29c-cbae-48d6-9d36-1a0b4497ed01",
   "metadata": {},
   "outputs": [],
   "source": [
    "def triangle():\n",
    "    print(\"Area of Triangle\")\n",
    "    Height=int(input(\"Enter the value of Height:\"))\n",
    "    Base=int(input(\"Enter the value of Base:\"))\n",
    "    Area=((Height*Base)/2)\n",
    "    print(\"Area:\",Area)\n",
    "    print(\"Perimeter of Triangle\")\n",
    "    a=int(input(\"Enter the value of side A:\"))\n",
    "    b=int(input(\"Enter the value of side B:\"))\n",
    "    c=int(input(\"Enter the value of side C:\"))\n",
    "    Perimeter=a+b+c\n",
    "    print(\"Perimeter:\",Perimeter)\n",
    "    return"
   ]
  },
  {
   "cell_type": "code",
   "execution_count": 14,
   "id": "7f6544ae-45cf-46c9-8498-da659ffbb1c0",
   "metadata": {},
   "outputs": [
    {
     "name": "stdout",
     "output_type": "stream",
     "text": [
      "Area of Triangle\n"
     ]
    },
    {
     "name": "stdin",
     "output_type": "stream",
     "text": [
      "Enter the value of Height: 5\n",
      "Enter the value of Base: 6\n"
     ]
    },
    {
     "name": "stdout",
     "output_type": "stream",
     "text": [
      "Area: 15.0\n",
      "Perimeter of Triangle\n"
     ]
    },
    {
     "name": "stdin",
     "output_type": "stream",
     "text": [
      "Enter the value of side A: 5\n",
      "Enter the value of side B: 3\n",
      "Enter the value of side C: 5\n"
     ]
    },
    {
     "name": "stdout",
     "output_type": "stream",
     "text": [
      "Perimeter: 13\n"
     ]
    }
   ],
   "source": [
    "triangle()"
   ]
  },
  {
   "cell_type": "code",
   "execution_count": null,
   "id": "13240dea-8961-479f-a17a-f8ea0575a8c5",
   "metadata": {},
   "outputs": [],
   "source": []
  }
 ],
 "metadata": {
  "kernelspec": {
   "display_name": "Python 3 (ipykernel)",
   "language": "python",
   "name": "python3"
  },
  "language_info": {
   "codemirror_mode": {
    "name": "ipython",
    "version": 3
   },
   "file_extension": ".py",
   "mimetype": "text/x-python",
   "name": "python",
   "nbconvert_exporter": "python",
   "pygments_lexer": "ipython3",
   "version": "3.12.4"
  }
 },
 "nbformat": 4,
 "nbformat_minor": 5
}
