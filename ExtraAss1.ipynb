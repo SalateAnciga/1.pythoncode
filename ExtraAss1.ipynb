{
 "cells": [
  {
   "cell_type": "code",
   "execution_count": 1,
   "id": "cfc98037-c1eb-4226-b083-9faa7a121c40",
   "metadata": {},
   "outputs": [
    {
     "name": "stdout",
     "output_type": "stream",
     "text": [
      "HOPE AI\n"
     ]
    }
   ],
   "source": [
    "# print statement\n",
    "print(\"HOPE AI\")"
   ]
  },
  {
   "cell_type": "code",
   "execution_count": 3,
   "id": "077efd14-744d-4eb5-a2a0-1a13fd1b61db",
   "metadata": {},
   "outputs": [
    {
     "name": "stdin",
     "output_type": "stream",
     "text": [
      "Enter Your Institute Name?: HOPE AI\n"
     ]
    }
   ],
   "source": [
    "# Buy Input\n",
    "Name=input(\"Enter Your Institute Name?:\")"
   ]
  },
  {
   "cell_type": "code",
   "execution_count": 3,
   "id": "3ce9df9a-ece4-4fd0-a370-73ead4d4d247",
   "metadata": {},
   "outputs": [
    {
     "name": "stdin",
     "output_type": "stream",
     "text": [
      "Enter Your  Name:\t salate\n",
      "Enter Your  Age:\t 34\n",
      "Enter Your School Name:\t St.Joseph's Higher Secondary School\n",
      "Enter Your degree :\t M.Phil\n"
     ]
    }
   ],
   "source": [
    "#Buy Input\n",
    "Name=input(\"Enter Your  Name:\\t\")\n",
    "Age=input(\"Enter Your  Age:\\t\")\n",
    "School_Name=input(\"Enter Your School Name:\\t\")\n",
    "Degree=input(\"Enter Your degree :\\t\")\n"
   ]
  },
  {
   "cell_type": "code",
   "execution_count": 4,
   "id": "678e6455-f432-4ac3-8d82-1d6fc801c4a3",
   "metadata": {},
   "outputs": [
    {
     "name": "stdout",
     "output_type": "stream",
     "text": [
      "Add: 77\n"
     ]
    }
   ],
   "source": [
    "#Addition\n",
    "a=43\n",
    "b=34\n",
    "Add=a+b\n",
    "print(\"Add:\",Add)"
   ]
  },
  {
   "cell_type": "code",
   "execution_count": 5,
   "id": "a2e1ed56-446a-4a69-89fb-f01093976196",
   "metadata": {},
   "outputs": [
    {
     "name": "stdout",
     "output_type": "stream",
     "text": [
      "Sub: 9\n"
     ]
    }
   ],
   "source": [
    "#Subtraction\n",
    "a=43\n",
    "b=34\n",
    "Sub=a-b\n",
    "print(\"Sub:\",Sub)\n"
   ]
  },
  {
   "cell_type": "code",
   "execution_count": 6,
   "id": "6adc26d0-71e3-4a6f-ada4-dad23d1d936d",
   "metadata": {},
   "outputs": [
    {
     "name": "stdout",
     "output_type": "stream",
     "text": [
      "Mul: 6111\n"
     ]
    }
   ],
   "source": [
    "#Multiplication\n",
    "a=63\n",
    "b=97\n",
    "Mul=a*b\n",
    "print(\"Mul:\",Mul)"
   ]
  },
  {
   "cell_type": "code",
   "execution_count": 8,
   "id": "cff5c811-0e45-4270-a876-a9a7d39aacfc",
   "metadata": {},
   "outputs": [
    {
     "name": "stdout",
     "output_type": "stream",
     "text": [
      "Division: 2.4516129032258065\n"
     ]
    }
   ],
   "source": [
    "#Division\n",
    "a=76\n",
    "b=31\n",
    "Div=a/b\n",
    "print(\"Division:\",Div)"
   ]
  },
  {
   "cell_type": "code",
   "execution_count": 9,
   "id": "c5c22af8-d57b-4b38-bb22-3ca56583b70b",
   "metadata": {},
   "outputs": [
    {
     "name": "stdout",
     "output_type": "stream",
     "text": [
      "Floor Division: 2\n"
     ]
    }
   ],
   "source": [
    "#Floor Divison\n",
    "a=76\n",
    "b=31\n",
    "Floor_Div=a//b\n",
    "print(\"Floor Division:\", Floor_Div)\n",
    "         \n",
    "\n",
    "     \n",
    "     \n",
    "     \n",
    "   \n",
    "     \n",
    "          \n",
    "     \n",
    "     \n",
    "     \n",
    "     \n",
    "     \n",
    "     "
   ]
  },
  {
   "cell_type": "code",
   "execution_count": 11,
   "id": "d76346c8-4049-4423-9d5e-965834dbb6e7",
   "metadata": {},
   "outputs": [
    {
     "name": "stdout",
     "output_type": "stream",
     "text": [
      "Module: 14\n"
     ]
    }
   ],
   "source": [
    "#Module\n",
    "a=76\n",
    "b=31\n",
    "Mod=a%b\n",
    "print(\"Module:\",Mod)\n",
    "         \n"
   ]
  },
  {
   "cell_type": "code",
   "execution_count": 14,
   "id": "bf30dd94-db09-46b0-883d-12494a7d505a",
   "metadata": {},
   "outputs": [
    {
     "name": "stdout",
     "output_type": "stream",
     "text": [
      "Power: 256\n"
     ]
    }
   ],
   "source": [
    "#Power\n",
    "a=4\n",
    "b=4\n",
    "POWER=a**b\n",
    "print(\"Power:\",POWER)\n",
    "         "
   ]
  },
  {
   "cell_type": "code",
   "execution_count": 15,
   "id": "2f2cb731-1075-482a-9a40-84becd46d8f7",
   "metadata": {},
   "outputs": [
    {
     "name": "stdout",
     "output_type": "stream",
     "text": [
      "Power: 256\n"
     ]
    }
   ],
   "source": [
    "#Power\n",
    "a=4\n",
    "b=4\n",
    "POWER=pow(a,b)\n",
    "print(\"Power:\",POWER)\n",
    "         "
   ]
  },
  {
   "cell_type": "code",
   "execution_count": null,
   "id": "65b7fb95-4eab-4b74-8f6e-74d1f4c9add5",
   "metadata": {},
   "outputs": [],
   "source": []
  }
 ],
 "metadata": {
  "kernelspec": {
   "display_name": "Python 3 (ipykernel)",
   "language": "python",
   "name": "python3"
  },
  "language_info": {
   "codemirror_mode": {
    "name": "ipython",
    "version": 3
   },
   "file_extension": ".py",
   "mimetype": "text/x-python",
   "name": "python",
   "nbconvert_exporter": "python",
   "pygments_lexer": "ipython3",
   "version": "3.12.4"
  }
 },
 "nbformat": 4,
 "nbformat_minor": 5
}
