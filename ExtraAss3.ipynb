{
 "cells": [
  {
   "cell_type": "raw",
   "id": "f3a6131f-16dd-4c10-8ed1-47b6826bb64f",
   "metadata": {},
   "source": []
  },
  {
   "cell_type": "code",
   "execution_count": 6,
   "id": "af5089c4-7f9c-42f8-8f12-dbbf3bc0bd62",
   "metadata": {},
   "outputs": [
    {
     "name": "stdout",
     "output_type": "stream",
     "text": [
      "Value: 10  is Correct\n"
     ]
    }
   ],
   "source": [
    "list=[20,30,50,60,10]\n",
    "for i in list:\n",
    "    if(i==10):\n",
    "        print(\"Value:\",i,\" is Correct\")\n",
    "   "
   ]
  },
  {
   "cell_type": "code",
   "execution_count": 32,
   "id": "59613121-9578-4b34-ae27-77921914b46c",
   "metadata": {},
   "outputs": [
    {
     "name": "stdin",
     "output_type": "stream",
     "text": [
      "Enter the password: 123\n"
     ]
    },
    {
     "name": "stdout",
     "output_type": "stream",
     "text": [
      "Password is Correct\n"
     ]
    }
   ],
   "source": [
    "Password=input(\"Enter the password:\")\n",
    "if(password=='Hope@123'):\n",
    "    print(\"Password is Correct\")\n",
    "else:\n",
    "    print(\"Password is incorrect\")\n",
    "  "
   ]
  },
  {
   "cell_type": "code",
   "execution_count": null,
   "id": "7bab8768-8106-47dc-990c-d8157448bf68",
   "metadata": {},
   "outputs": [],
   "source": []
  },
  {
   "cell_type": "code",
   "execution_count": 29,
   "id": "f11a4d8f-8833-42b3-ac6e-c40558762c4a",
   "metadata": {},
   "outputs": [
    {
     "name": "stdin",
     "output_type": "stream",
     "text": [
      "Enter the age: 34\n"
     ]
    },
    {
     "name": "stdout",
     "output_type": "stream",
     "text": [
      "Adult\n"
     ]
    }
   ],
   "source": [
    "age=int(input(\"Enter the age:\"))\n",
    "if(age==0 and age<13):\n",
    "    print(\"Children\")\n",
    "elif(age>=13 and age<20):\n",
    "    print(\"Teenager\")\n",
    "elif(age>=20 and age<45):\n",
    "    print(\"Adult\")\n",
    "elif(age>=45 and age<60):\n",
    "    print(\"Citizen\")          \n",
    "else:\n",
    "    print(\"Senior Citizen\")\n"
   ]
  },
  {
   "cell_type": "code",
   "execution_count": 30,
   "id": "95aaab2c-34dc-401a-aa3a-7a2a1acf4084",
   "metadata": {},
   "outputs": [
    {
     "name": "stdin",
     "output_type": "stream",
     "text": [
      "Enter the Num: -5\n"
     ]
    },
    {
     "name": "stdout",
     "output_type": "stream",
     "text": [
      "Negative\n"
     ]
    }
   ],
   "source": [
    "Num=int(input(\"Enter the Num:\"))\n",
    "if(Num>0):\n",
    "    print(\"The Given no is Positive\")\n",
    "else:\n",
    "    print(\"Negative\")\n"
   ]
  },
  {
   "cell_type": "code",
   "execution_count": 31,
   "id": "9e2398ad-eac0-4494-a41c-1b8541c48e75",
   "metadata": {},
   "outputs": [
    {
     "name": "stdin",
     "output_type": "stream",
     "text": [
      "Enter the Number to check: 78\n"
     ]
    },
    {
     "name": "stdout",
     "output_type": "stream",
     "text": [
      "The Given no is not Divisible by 5\n"
     ]
    }
   ],
   "source": [
    "Num=int(input(\"Enter the Number to check:\"))\n",
    "if(Num%5==0):\n",
    "    print(\"The Given no is Divisible by 5\")\n",
    "else:\n",
    "    print(\"The Given no is not Divisible by 5\")"
   ]
  },
  {
   "cell_type": "code",
   "execution_count": null,
   "id": "3a6dfbec-93bc-403d-8a07-1776a1f192df",
   "metadata": {},
   "outputs": [],
   "source": []
  }
 ],
 "metadata": {
  "kernelspec": {
   "display_name": "Python 3 (ipykernel)",
   "language": "python",
   "name": "python3"
  },
  "language_info": {
   "codemirror_mode": {
    "name": "ipython",
    "version": 3
   },
   "file_extension": ".py",
   "mimetype": "text/x-python",
   "name": "python",
   "nbconvert_exporter": "python",
   "pygments_lexer": "ipython3",
   "version": "3.12.4"
  }
 },
 "nbformat": 4,
 "nbformat_minor": 5
}
